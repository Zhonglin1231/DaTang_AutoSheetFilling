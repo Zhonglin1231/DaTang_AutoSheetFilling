{
 "cells": [
  {
   "cell_type": "markdown",
   "metadata": {},
   "source": [
    "# 需求"
   ]
  },
  {
   "cell_type": "markdown",
   "metadata": {},
   "source": [
    "input里的数据源自财务指标计算模板\n",
    "我现在是想实现直接从财务报表中抓取数据，计算出input中的这些数，填入其中"
   ]
  },
  {
   "cell_type": "markdown",
   "metadata": {},
   "source": [
    "## 准备部分"
   ]
  },
  {
   "cell_type": "markdown",
   "metadata": {},
   "source": [
    "### Import"
   ]
  },
  {
   "cell_type": "code",
   "execution_count": 1,
   "metadata": {},
   "outputs": [],
   "source": [
    "import numpy as np\n",
    "import pandas as pd"
   ]
  },
  {
   "cell_type": "markdown",
   "metadata": {},
   "source": [
    "### def"
   ]
  },
  {
   "cell_type": "code",
   "execution_count": 19,
   "metadata": {},
   "outputs": [],
   "source": [
    "# excel里列的字母转数字\n",
    "def col_to_num(col_str):\n",
    "    num = 0\n",
    "    for i, c in enumerate(reversed(col_str)):\n",
    "        num += (ord(c) - ord('A') + 1) * (26 ** i)\n",
    "    return num - 1\n",
    "\n",
    "# excel里行的数字转换\n",
    "def row_to_num(num):\n",
    "    return int(num) - 2"
   ]
  },
  {
   "cell_type": "markdown",
   "metadata": {},
   "source": [
    "### 读取数据"
   ]
  },
  {
   "cell_type": "code",
   "execution_count": 2,
   "metadata": {},
   "outputs": [
    {
     "name": "stderr",
     "output_type": "stream",
     "text": [
      "f:\\Tools\\miniconda\\envs\\FinaCoding\\Lib\\site-packages\\openpyxl\\worksheet\\_read_only.py:85: UserWarning: Data Validation extension is not supported and will be removed\n",
      "  for idx, row in parser.parse():\n"
     ]
    }
   ],
   "source": [
    "# 设置路径\n",
    "report_path = \"../评级-芒市新能源 - 副本.xlsx\"\n",
    "source_data_path = \"../财务指标计算模板-芒市新能源 - 副本.xlsx\"\n",
    "\n",
    "# 读取文件以及需要的数据\n",
    "report = pd.read_excel(report_path, sheet_name=\"Inputs\")\n",
    "source_data = pd.read_excel(source_data_path, sheet_name=\"打分卡财务指标计算\")"
   ]
  },
  {
   "cell_type": "markdown",
   "metadata": {},
   "source": [
    "## 计算部分"
   ]
  },
  {
   "cell_type": "markdown",
   "metadata": {},
   "source": [
    "### 数据分配"
   ]
  },
  {
   "cell_type": "code",
   "execution_count": null,
   "metadata": {},
   "outputs": [],
   "source": [
    "# 建立字典\n",
    "dict_2022 = {\"EBITDA%\": 0,\n",
    "                   \"资本回报率\": 0,\n",
    "                   \"收入\": 0, \n",
    "                   \"总资产\": 0,\n",
    "                   \"FFO/总负债\": 0,\n",
    "                   \"总负债/EBITDA\": 0, \n",
    "                   \"自由经营现金流/负债\": 0,\n",
    "                   \"EBITDA利息覆盖倍率\": 0,\n",
    "                   \"经营活动产生的现金\": 0,\n",
    "                   \"总负债\": 0,\n",
    "                   \"EBITDA\": 0\n",
    "                   }\n",
    "\n",
    "dict_2023 = {\"EBITDA%\": 0,\n",
    "                   \"资本回报率\": 0,\n",
    "                   \"收入\": 0, \n",
    "                   \"总资产\": 0,\n",
    "                   \"FFO/总负债\": 0,\n",
    "                   \"总负债/EBITDA\": 0, \n",
    "                   \"自由经营现金流/负债\": 0,\n",
    "                   \"EBITDA利息覆盖倍率\": 0,\n",
    "                   \"经营活动产生的现金\": 0,\n",
    "                   \"总负债\": 0,\n",
    "                   \"EBITDA\": 0\n",
    "                   }"
   ]
  },
  {
   "cell_type": "code",
   "execution_count": 23,
   "metadata": {},
   "outputs": [
    {
     "name": "stdout",
     "output_type": "stream",
     "text": [
      "0.6612604502867193\n"
     ]
    }
   ],
   "source": [
    "# 读取数据及数据定位\n",
    "dict_2022[\"EBITDA%\"] = report.iloc[row_to_num(70), col_to_num(\"H\")]\n",
    "dict_2023[\"EBITDA%\"] = report.iloc[row_to_num(70), col_to_num(\"G\")]\n",
    "dict_2022[\"资本回报率\"] = report.iloc[row_to_num(54), col_to_num(\"H\")]\n",
    "dict_2023[\"资本回报率\"] = report.iloc[row_to_num(54), col_to_num(\"G\")]\n",
    "dict_2022[\"收入\"] = report.iloc[row_to_num(7), col_to_num(\"H\")]\n",
    "dict_2023[\"收入\"] = report.iloc[row_to_num(7), col_to_num(\"G\")]\n",
    "dict_2022[\"总资产\"] = report.iloc[row_to_num(19), col_to_num(\"H\")]\n",
    "dict_2023[\"总资产\"] = report.iloc[row_to_num(19), col_to_num(\"G\")]\n",
    "dict_2022[\"FFO/总负债\"] = report.iloc[row_to_num(56), col_to_num(\"H\")]\n",
    "dict_2023[\"FFO/总负债\"] = report.iloc[row_to_num(56), col_to_num(\"G\")]\n",
    "dict_2022[\"总负债/EBITDA\"] = report.iloc[row_to_num(58), col_to_num(\"H\")]\n",
    "dict_2023[\"总负债/EBITDA\"] = report.iloc[row_to_num(58), col_to_num(\"G\")]\n",
    "dict_2022[\"自由经营现金流/负债\"] = report.iloc[row_to_num(60), col_to_num(\"H\")]\n",
    "dict_2023[\"自由经营现金流/负债\"] = report.iloc[row_to_num(60), col_to_num(\"G\")]\n",
    "dict_2022[\"EBITDA利息覆盖倍率\"] = report.iloc[row_to_num(62), col_to_num(\"H\")]\n",
    "dict_2023[\"EBITDA利息覆盖倍率\"] = report.iloc[row_to_num(62), col_to_num(\"G\")]\n",
    "dict_2022[\"经营活动产生的现金\"] = report.iloc[row_to_num(64), col_to_num(\"H\")]\n",
    "dict_2023[\"经营活动产生的现金\"] = report.iloc[row_to_num(64), col_to_num(\"G\")]\n",
    "dict_2022[\"总负债\"] = report.iloc[row_to_num(52), col_to_num(\"H\")]\n",
    "dict_2023[\"总负债\"] = report.iloc[row_to_num(52), col_to_num(\"G\")]\n",
    "dict_2022[\"EBITDA\"] = report.iloc[row_to_num(68), col_to_num(\"H\")]\n",
    "dict_2023[\"EBITDA\"] = report.iloc[row_to_num(68), col_to_num(\"G\")]"
   ]
  }
 ],
 "metadata": {
  "kernelspec": {
   "display_name": "FinaCoding",
   "language": "python",
   "name": "python3"
  },
  "language_info": {
   "codemirror_mode": {
    "name": "ipython",
    "version": 3
   },
   "file_extension": ".py",
   "mimetype": "text/x-python",
   "name": "python",
   "nbconvert_exporter": "python",
   "pygments_lexer": "ipython3",
   "version": "3.12.4"
  }
 },
 "nbformat": 4,
 "nbformat_minor": 2
}
