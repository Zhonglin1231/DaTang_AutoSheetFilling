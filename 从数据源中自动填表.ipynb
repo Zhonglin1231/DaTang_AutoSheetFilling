{
 "cells": [
  {
   "cell_type": "markdown",
   "metadata": {},
   "source": [
    "# 需求"
   ]
  },
  {
   "cell_type": "markdown",
   "metadata": {},
   "source": [
    "input里的数据源自财务指标计算模板\n",
    "我现在是想实现直接从财务报表中抓取数据，计算出input中的这些数，填入其中"
   ]
  },
  {
   "cell_type": "markdown",
   "metadata": {},
   "source": [
    "## 准备部分"
   ]
  },
  {
   "cell_type": "markdown",
   "metadata": {},
   "source": [
    "### Import"
   ]
  },
  {
   "cell_type": "code",
   "execution_count": 1,
   "metadata": {},
   "outputs": [],
   "source": [
    "import numpy as np\n",
    "import pandas as pd"
   ]
  },
  {
   "cell_type": "markdown",
   "metadata": {},
   "source": [
    "### def"
   ]
  },
  {
   "cell_type": "markdown",
   "metadata": {},
   "source": [
    "#### 基础公式"
   ]
  },
  {
   "cell_type": "code",
   "execution_count": 2,
   "metadata": {},
   "outputs": [],
   "source": [
    "# excel里列的字母转数字\n",
    "def col_to_num(col_str):\n",
    "    num = 0\n",
    "    for i, c in enumerate(reversed(col_str)):\n",
    "        num += (ord(c) - ord('A') + 1) * (26 ** i)\n",
    "    return num - 1\n",
    "\n",
    "# excel里行的数字转换\n",
    "def row_to_num(num):\n",
    "    return int(num) - 2"
   ]
  },
  {
   "cell_type": "markdown",
   "metadata": {},
   "source": [
    "#### 计算公式"
   ]
  },
  {
   "cell_type": "code",
   "execution_count": 62,
   "metadata": {},
   "outputs": [],
   "source": [
    "def EBITDA(营业利润, 财务费用, 折旧费, 公允价值变动, 投资收益, 取得投资收益收到的现金, 政府补助, 经营租赁费用调整, 资本化开发成本, 勘探费用):\n",
    "    return 营业利润 + 财务费用 + 折旧费 - 公允价值变动 - 投资收益 + 取得投资收益收到的现金 + 政府补助 + 经营租赁费用调整 - 资本化开发成本 + 勘探费用\n",
    "\n",
    "def EBIT(营业利润, 财务费用, 利息收入, 公允价值变动, 投资收益, 对联营企业和合营企业的投资收益, 政府补助, 经营租赁的利息调整):\n",
    "    return 营业利润 + 财务费用 + 利息收入 - 公允价值变动 - 投资收益 + 对联营企业和合营企业的投资收益 + 政府补助 + 经营租赁的利息调整\n",
    "\n",
    "def FOCF(经营活动产生的现金流量净额, 购建固定资产无形资产和其他长期资产支付的现金, 取得投资收益收到的现金, 收到其他与投资活动有关的现金附注利息部分, 分配股利利润或偿付利息支付的现金, 对所有者或股东的分配, 经营租赁折旧调整, 资本化开发成本):\n",
    "    return 经营活动产生的现金流量净额 - 购建固定资产无形资产和其他长期资产支付的现金 + 取得投资收益收到的现金 + 收到其他与投资活动有关的现金附注利息部分 - 分配股利利润或偿付利息支付的现金 - 对所有者或股东的分配 + 经营租赁折旧调整 - 资本化开发成本\n",
    "\n",
    "def FFO(EBITDA, 利息费用, 利息收入, 所得税费用, 经营租赁费用调整, 经营租赁折旧调整, 资本化利息):\n",
    "    return EBITDA - 利息费用 + 利息收入 - 所得税费用 - 经营租赁费用调整 + 经营租赁折旧调整 - 资本化利息\n",
    "\n",
    "def Total_debt(短期借款, 应付利息, 一年内到期的长期借款, 一年内到期的应付债券, 其它流动负债短期应付债券, 一年内应付融资租赁款, 长期借款, 应付债券, 长期应付融资租赁款, 重大合同及履行状况担保情况, 货币资金, 以公允价值计量且其变动计入当期损益的金融资产, 其他货币资金, 卖出回购金融资产款, 特定行业或公司现金盈余不做调整扣除的部分加回, 经营租赁调整, 永续债):\n",
    "    return 短期借款 + 应付利息 + 一年内到期的长期借款 + 一年内到期的应付债券 + 其它流动负债短期应付债券 + 一年内应付融资租赁款 + 长期借款 + 应付债券 + 长期应付融资租赁款 + 重大合同及履行状况担保情况 - (货币资金 + 以公允价值计量且其变动计入当期损益的金融资产 - 其他货币资金) * 0.75 + 卖出回购金融资产款 + 特定行业或公司现金盈余不做调整扣除的部分加回 + 经营租赁调整 + 永续债\n",
    "\n",
    "def Capital(所有者权益合计, 短期借款, 应付利息, 一年内到期的长期借款, 一年内到期的应付债券, 其它流动负债短期应付债券, 一年内应付融资租赁款, 长期借款, 应付债券, 长期应付融资租赁款, 递延所得税负债, 重大合同及履行状况担保情况, 货币资金, 以公允价值计量且其变动计入当期损益的金融资产, 其他货币资金, 卖出回购金融资产款, 特定行业或公司现金盈余不做调整扣除的部分加回, 经营租赁调整, 永续债):\n",
    "    return 所有者权益合计 + 短期借款 + 应付利息 + 一年内到期的长期借款 + 一年内到期的应付债券 + 其它流动负债短期应付债券 + 一年内应付融资租赁款 + 长期借款 + 应付债券 + 长期应付融资租赁款 + 递延所得税负债 + 重大合同及履行状况担保情况 - (货币资金 + 以公允价值计量且其变动计入当期损益的金融资产 - 其他货币资金) * 0.75 + 卖出回购金融资产款 + 特定行业或公司现金盈余不做调整扣除的部分加回 + 经营租赁调整 + 永续债\n",
    "\n",
    "def EBITDA_profit_rate(EBITDA, 营业收入):\n",
    "    return EBITDA / 营业收入\n",
    "\n",
    "def Capital_RR(EBIT, 资本):\n",
    "    return EBIT / 资本\n",
    "\n",
    "def Operating_cash_to_debt(FFO, 总负债):\n",
    "    return FFO / 总负债\n",
    "\n",
    "def debt_to_PBITA(总负债, EBITDA):\n",
    "    return 总负债 / EBITDA\n",
    "\n",
    "def FOCF_to_debt(FOCF, 总负债):\n",
    "    return FOCF / 总负债\n",
    "\n",
    "def EBITDA_to_interest_expense(EBITDA, 财务费用, 资本化利息, 经营租赁的利息调整):\n",
    "    return EBITDA / (财务费用 + 资本化利息 + 经营租赁的利息调整)"
   ]
  },
  {
   "cell_type": "markdown",
   "metadata": {},
   "source": [
    "### 读取数据"
   ]
  },
  {
   "cell_type": "code",
   "execution_count": 31,
   "metadata": {},
   "outputs": [
    {
     "name": "stderr",
     "output_type": "stream",
     "text": [
      "f:\\Tools\\miniconda\\envs\\FinaCoding\\Lib\\site-packages\\openpyxl\\worksheet\\_read_only.py:85: UserWarning: Data Validation extension is not supported and will be removed\n",
      "  for idx, row in parser.parse():\n",
      "f:\\Tools\\miniconda\\envs\\FinaCoding\\Lib\\site-packages\\openpyxl\\styles\\stylesheet.py:237: UserWarning: Workbook contains no default style, apply openpyxl's default\n",
      "  warn(\"Workbook contains no default style, apply openpyxl's default\")\n"
     ]
    }
   ],
   "source": [
    "# 设置路径\n",
    "report_path = \"../评级-芒市新能源 - 副本.xlsx\"\n",
    "report_2022_path = \"../data/2022年年报.xlsx\"\n",
    "report_2023_path = \"../data/2023年年报.xlsx\"\n",
    "company_info_path = \"../data/大唐芒市新能源开发有限公司 2024年5月.xlsx\"\n",
    "revenue_path = \"../data/副本芒市新能源2024年收入预测.xlsx\"\n",
    "back_data_path = \"../数据底稿.xlsx\"\n",
    "\n",
    "# 读取文件以及需要的数据\n",
    "report = pd.read_excel(report_path, sheet_name=\"Inputs\")\n",
    "report_2022 = pd.read_excel(report_2022_path, sheet_name=None)\n",
    "report_2023 = pd.read_excel(report_2023_path, sheet_name=None)\n",
    "company_info = pd.read_excel(company_info_path, sheet_name=None)\n",
    "revenue = pd.read_excel(revenue_path)\n",
    "back_data = pd.read_excel(back_data_path)"
   ]
  },
  {
   "cell_type": "markdown",
   "metadata": {},
   "source": [
    "## 数据预处理"
   ]
  },
  {
   "cell_type": "code",
   "execution_count": 32,
   "metadata": {},
   "outputs": [],
   "source": [
    "# 2022年年报数据\n",
    "bal_sheet_2022 = report_2022[\"NB003-资产负债表\"]\n",
    "# # 设置第四行为列名\n",
    "# bal_sheet_2022.columns = bal_sheet_2022.iloc[2]\n",
    "# # 删除前三行以及最后两行\n",
    "# bal_sheet_2022 = bal_sheet_2022.drop([0, 1, 2])\n",
    "# bal_sheet_2022 = bal_sheet_2022.drop(bal_sheet_2022.tail(2).index)\n",
    "# # 删除第四列之后的列\n",
    "# bal_sheet_2022 = bal_sheet_2022.iloc[:, :col_to_num(\"D\") + 1]\n",
    "\n",
    "# # 展示数据\n",
    "# bal_sheet_2022\n",
    "\n",
    "bal_sheet_2022_con = report_2022[\"NB004-资产负债表（续）\"]\n",
    "profit_sheet_2022 = report_2022[\"NB005-利润表\"]\n",
    "cash_sheet_2022 = report_2022[\"NB006-现金流量表\"]\n",
    "ecoIndex_sheet_2022 = report_2022[\"NB014-技术经济指标表\"]\n",
    "cost_sheet_2022 = report_2022[\"NB020-成本费用情况表\"]\n",
    "\n",
    "# 2023年年报数据\n",
    "bal_sheet_2023 = report_2023[\"Z01 资产负债表\"]\n",
    "profit_sheet_2023 = report_2023[\"Z02 利润表\"]\n",
    "cash_sheet_2023 = report_2023[\"Z03 现金流量表\"]\n",
    "cost_sheet_2023 = report_2023[\"Z20 成本费用情况表\"]\n",
    "ecoIndex_sheet_2023 = report_2023[\"DT67 技术经济指标表\"]\n",
    "\n",
    "# 公司信息\n",
    "fmdm = company_info[\"FMDM 封面代码\"]\n",
    "consSheet = company_info[\"CWYB2401 大唐集团参数表\"]\n",
    "comp_bal_sheet = company_info[\"CWYB2402 资产负债表\"]\n",
    "comp_profit_sheet = company_info[\"CWYB2403 利润表\"]\n",
    "comp_cash_sheet = company_info[\"CWYB2404 现金流量表\"]\n",
    "comp_profit_detial = company_info[\"CWYB2406 利润明细表\"]\n",
    "comp_profit_detial_con = company_info[\"CWYB2407 利润明细表（续）\"]\n",
    "comp_cash_info = company_info[\"CWYB2405 应交款项情况表\"]\n",
    "comp_product_cost = company_info[\"CWYB2408 电热产品成本表\"]\n",
    "tech_econ_indicators = company_info[\"CWYB2410 技术经济指标表\"]\n",
    "cost_expenses = company_info[\"CWYB2409 成本费用情况表\"]\n",
    "other_product_costs = company_info[\"CWYB2411 电热产品其他费用明细表\"]\n",
    "labor_costs = company_info[\"CWYB2412 人工成本表\"]\n",
    "state_control_stats = company_info[\"JGBS2405 中央企业“两金”压控工作统计表（国资委）\"]\n",
    "capital_budget_completion = company_info[\"CWYB2415 资本性预算完成情况表\"]\n",
    "capital_budget_detail = company_info[\"CWYB2416 资本性预算完成情况明细表\"]\n",
    "economic_value_added = company_info[\"CWYB2417 经济增加值明细表\"]\n",
    "new_unit_indicators = company_info[\"GLYB2401 新投机组主要指标表\"]\n",
    "renewable_energy_revenue = company_info[\"GLYB2402 可再生能源电费回收情况表\"]\n",
    "group_financing_plan = company_info[\"GLYB2403 集团公司融资计划情况表\"]\n",
    "tax_policy_execution = company_info[\"GLYB2406 集团公司税收政策执行情况表\"]\n",
    "funds_management = company_info[\"GLYB2407 资金集中管理情况表\"]\n",
    "coal_production_cost = company_info[\"GLYB2409 煤炭生产成本费用情况表\"]\n",
    "coal_production_sales = company_info[\"GLYB2410 煤炭生产销售情况表\"]\n",
    "construction_projects = company_info[\"GLYB2411 在建工程\"]\n",
    "coal_operational_indicators = company_info[\"GLYB2416 煤炭企业主要经营指标\"]\n",
    "account_details = company_info[\"GLYB2417 账户信息明细表\"]\n",
    "electricity_sales_revenue = company_info[\"GLYB2419 电力销售收入明细表\"]\n",
    "fuel_costs = company_info[\"GLYB2420 发电供热耗用燃料成本表\"]\n",
    "fuel_purchase_monthly = company_info[\"GLYB2421 燃料采购费用情况表（本月）\"]\n",
    "fuel_purchase_yearly = company_info[\"GLYB2422 燃料采购费用情况表（本年）\"]\n",
    "marginal_profit = company_info[\"GLYB2425 燃机边际利润统计表\"]\n",
    "safety_production_feb = company_info[\"LSTRRRMH 安全生产费情况表_2月及以后\"]\n",
    "safety_production_detail = company_info[\"GLYB2427 安全生产费使用明细表\"]\n",
    "external_donations = company_info[\"KB23JZJB 对外捐赠支出月表\"]\n",
    "internal_transactions_balance = company_info[\"NB2402 内部交易余额统计\"]\n",
    "internal_sales_services = company_info[\"NB2403 内部销售商品、提供劳务情况表\"]\n",
    "internal_cash_flow = company_info[\"NB2401 内部现金流量表\"]\n",
    "financial_report_sasac = company_info[\"JGBS2401 企业财务快报（国资委）\"]\n",
    "financial_report_mof = company_info[\"JGBS2402 企业财务快报（财政部）\"]\n",
    "debt_risk_monitoring = company_info[\"KB23JWJCX 中央企业债务风险监测表\"]\n",
    "bond_issuance = company_info[\"KB23ZQFXX 中央企业债券发行情况表\"]\n",
    "bond_financing_plan = company_info[\"KB23ZQRZX 中央企业债券融资计划表\"]\n",
    "additional_reports = company_info[\"KB23FBWD 附报文档\"]\n",
    "hidden_sheet = company_info[\"HIDDENSHEETNAME\"]\n",
    "\n",
    "# 收入预测\n",
    "revenue = revenue\n",
    "\n",
    "# 数据底稿\n",
    "back_data = back_data\n"
   ]
  },
  {
   "cell_type": "markdown",
   "metadata": {},
   "source": [
    "## 计算部分"
   ]
  },
  {
   "cell_type": "markdown",
   "metadata": {},
   "source": [
    "### 数据分配"
   ]
  },
  {
   "cell_type": "code",
   "execution_count": 63,
   "metadata": {},
   "outputs": [],
   "source": [
    "# 建立字典\n",
    "raw_data_2022 = {\"EBITDA\": 0,\n",
    "                 \"EBIT\": 0,\n",
    "                 \"自由运营现金流(FOCF)\": 0,\n",
    "                 \"经营活动产生的现金(FFO)\": 0,\n",
    "                 \"总负债\": 0,\n",
    "                 \"资本\": 0,\n",
    "                 \"EBITDA利润率\": 0,\n",
    "                 \"资本回报率\": 0,\n",
    "                 \"经营活动产生的资金/债务\": 0,\n",
    "                 \"债务/息税摊折前利润\": 0,\n",
    "                 \"自由运营现金流/债务\": 0,\n",
    "                 \"息税摊折前利润 / 利息支出\": 0\n",
    "                }\n",
    "\n",
    "raw_data_2022 = {\"EBITDA\": 0,\n",
    "                 \"EBIT\": 0,\n",
    "                 \"自由运营现金流(FOCF)\": 0,\n",
    "                 \"经营活动产生的现金(FFO)\": 0,\n",
    "                 \"总负债\": 0,\n",
    "                 \"资本\": 0,\n",
    "                 \"EBITDA利润率\": 0,\n",
    "                 \"资本回报率\": 0,\n",
    "                 \"经营活动产生的资金/债务\": 0,\n",
    "                 \"债务/息税摊折前利润\": 0,\n",
    "                 \"自由运营现金流/债务\": 0,\n",
    "                 \"息税摊折前利润 / 利息支出\": 0\n",
    "                }"
   ]
  },
  {
   "cell_type": "markdown",
   "metadata": {},
   "source": [
    "### 计算"
   ]
  },
  {
   "cell_type": "markdown",
   "metadata": {},
   "source": [
    "#### 2022"
   ]
  },
  {
   "cell_type": "code",
   "execution_count": 64,
   "metadata": {},
   "outputs": [],
   "source": [
    "营业利润_2022 = profit_sheet_2022.iloc[(row_to_num(7)), col_to_num(\"G\")]\n",
    "财务费用_2022 = profit_sheet_2022.iloc[(row_to_num(33)), col_to_num(\"C\")]\n",
    "折旧费_2022 = back_data.iloc[(row_to_num(2)), col_to_num(\"C\")]\n",
    "公允价值变动_2022 = profit_sheet_2022.iloc[(row_to_num(44)), col_to_num(\"C\")]\n",
    "投资收益_2022 = profit_sheet_2022.iloc[(row_to_num(39)), col_to_num(\"C\")]\n",
    "取得投资收益收到的现金_2022 = cash_sheet_2022.iloc[(row_to_num(6)), col_to_num(\"H\")]\n",
    "政府补助_2022 = profit_sheet_2022.iloc[(row_to_num(9)), col_to_num(\"G\")]\n",
    "经营租赁费用调整_2022 = back_data.iloc[(row_to_num(3)), col_to_num(\"C\")]\n",
    "资本化开发成本_2022 = back_data.iloc[(row_to_num(4)), col_to_num(\"C\")]\n",
    "勘探费用_2022 = back_data.iloc[(row_to_num(5)), col_to_num(\"C\")]\n",
    "利息收入_2022 = profit_sheet_2022.iloc[(row_to_num(35)), col_to_num(\"C\")]\n",
    "对联营企业和合营企业的投资收益_2022 = profit_sheet_2022.iloc[(row_to_num(40)), col_to_num(\"C\")]\n",
    "经营租赁的利息调整_2022 = back_data.iloc[(row_to_num(6)), col_to_num(\"C\")]\n",
    "经营活动产生的现金流量净额_2022 = cash_sheet_2022.iloc[(row_to_num(32)), col_to_num(\"D\")]\n",
    "购建固定资产无形资产和其他长期资产支付的现金_2022 = cash_sheet_2022.iloc[(row_to_num(11)), col_to_num(\"H\")]\n",
    "收到其他与投资活动有关的现金附注利息部分_2022 = back_data.iloc[(row_to_num(7)), col_to_num(\"C\")]\n",
    "分配股利利润或偿付利息支付的现金_2022 = cash_sheet_2022.iloc[(row_to_num(25)), col_to_num(\"H\")]\n",
    "对所有者或股东的分配_2022 = back_data.iloc[(row_to_num(8)), col_to_num(\"C\")]\n",
    "经营租赁折旧调整_2022 = back_data.iloc[(row_to_num(9)), col_to_num(\"C\")]\n",
    "所得税费用_2022 = profit_sheet_2022.iloc[(row_to_num(12)), col_to_num(\"G\")]\n",
    "资本化利息_2022 = back_data.iloc[(row_to_num(10)), col_to_num(\"C\")]\n",
    "短期借款_2022 = bal_sheet_2022_con.iloc[(row_to_num(6)), col_to_num(\"D\")]\n",
    "应付利息_2022 = back_data.iloc[(row_to_num(11)), col_to_num(\"C\")]\n",
    "一年内到期的长期借款_2022 = back_data.iloc[(row_to_num(12)), col_to_num(\"C\")]\n",
    "一年内到期的应付债券_2022 = back_data.iloc[(row_to_num(13)), col_to_num(\"C\")]\n",
    "其它流动负债短期应付债券_2022 = back_data.iloc[(row_to_num(14)), col_to_num(\"C\")]\n",
    "一年内应付融资租赁款_2022 = back_data.iloc[(row_to_num(15)), col_to_num(\"C\")]\n",
    "长期借款_2022 = bal_sheet_2022_con.iloc[(row_to_num(37)), col_to_num(\"D\")]\n",
    "应付债券_2022 = bal_sheet_2022_con.iloc[(row_to_num(38)), col_to_num(\"D\")]\n",
    "长期应付融资租赁款_2022 = back_data.iloc[(row_to_num(16)), col_to_num(\"C\")]\n",
    "重大合同及履行状况担保情况_2022 = back_data.iloc[(row_to_num(17)), col_to_num(\"C\")]\n",
    "货币资金_2022 = bal_sheet_2022.iloc[(row_to_num(6)), col_to_num(\"D\")]\n",
    "以公允价值计量且其变动计入当期损益的金融资产_2022 = bal_sheet_2022.iloc[(row_to_num(10)), col_to_num(\"D\")]\n",
    "其他货币资金_2022 = back_data.iloc[(row_to_num(21)), col_to_num(\"C\")]\n",
    "卖出回购金融资产款_2022 = back_data.iloc[(row_to_num(18)), col_to_num(\"C\")]\n",
    "特定行业或公司现金盈余不做调整扣除的部分加回_2022 = back_data.iloc[(row_to_num(19)), col_to_num(\"C\")]\n",
    "经营租赁调整_2022 = back_data.iloc[(row_to_num(20)), col_to_num(\"C\")]\n",
    "永续债_2022 = bal_sheet_2022_con.iloc[(row_to_num(40)), col_to_num(\"D\")]"
   ]
  },
  {
   "cell_type": "code",
   "execution_count": 52,
   "metadata": {},
   "outputs": [
    {
     "name": "stdout",
     "output_type": "stream",
     "text": [
      "67874.8\n",
      "34323647.16\n"
     ]
    }
   ],
   "source": [
    "print(cash_sheet_2022.iloc[(row_to_num(32)), col_to_num(\"D\")])\n",
    "print(购建固定资产无形资产和其他长期资产支付的现金_2022)"
   ]
  },
  {
   "cell_type": "code",
   "execution_count": 66,
   "metadata": {},
   "outputs": [],
   "source": [
    "raw_data_2022[\"EBITDA\"] = EBITDA(营业利润_2022,\n",
    "                                 财务费用_2022,\n",
    "                                 折旧费_2022,\n",
    "                                 公允价值变动_2022,\n",
    "                                 投资收益_2022,\n",
    "                                 取得投资收益收到的现金_2022,\n",
    "                                 政府补助_2022,\n",
    "                                 经营租赁费用调整_2022,\n",
    "                                 资本化开发成本_2022,\n",
    "                                 勘探费用_2022)\n",
    "\n",
    "raw_data_2022[\"EBIT\"] = EBIT(营业利润_2022,\n",
    "                            财务费用_2022,\n",
    "                            利息收入_2022,\n",
    "                            公允价值变动_2022,\n",
    "                            投资收益_2022,\n",
    "                            对联营企业和合营企业的投资收益_2022,\n",
    "                            政府补助_2022,\n",
    "                            经营租赁的利息调整_2022)\n",
    "\n",
    "raw_data_2022[\"自由运营现金流(FOCF)\"] = FOCF(经营活动产生的现金流量净额_2022,\n",
    "                                         购建固定资产无形资产和其他长期资产支付的现金_2022,\n",
    "                                         取得投资收益收到的现金_2022,\n",
    "                                         收到其他与投资活动有关的现金附注利息部分_2022,\n",
    "                                         分配股利利润或偿付利息支付的现金_2022,\n",
    "                                         对所有者或股东的分配_2022,\n",
    "                                         经营租赁折旧调整_2022,\n",
    "                                         资本化开发成本_2022)\n",
    "\n",
    "raw_data_2022[\"经营活动产生的现金(FFO)\"] = FFO(raw_data_2022[\"EBITDA\"],\n",
    "                                           财务费用_2022,\n",
    "                                           利息收入_2022,\n",
    "                                           所得税费用_2022,\n",
    "                                           经营租赁费用调整_2022,\n",
    "                                           经营租赁折旧调整_2022,\n",
    "                                           资本化利息_2022)\n",
    "\n",
    "raw_data_2022[\"总负债\"] = Total_debt(短期借款_2022,\n",
    "                                  应付利息_2022,\n",
    "                                  一年内到期的长期借款_2022,\n",
    "                                  一年内到期的应付债券_2022,\n",
    "                                  其它流动负债短期应付债券_2022,\n",
    "                                  一年内应付融资租赁款_2022,\n",
    "                                  长期借款_2022,\n",
    "                                  应付债券_2022,\n",
    "                                  长期应付融资租赁款_2022,\n",
    "                                  重大合同及履行状况担保情况_2022,\n",
    "                                  货币资金_2022,\n",
    "                                  以公允价值计量且其变动计入当期损益的金融资产_2022,\n",
    "                                  其他货币资金_2022,\n",
    "                                  卖出回购金融资产款_2022,\n",
    "                                  特定行业或公司现金盈余不做调整扣除的部分加回_2022,\n",
    "                                  经营租赁调整_2022,\n",
    "                                  永续债_2022)\n",
    "\n"
   ]
  },
  {
   "cell_type": "code",
   "execution_count": 70,
   "metadata": {},
   "outputs": [
    {
     "name": "stdout",
     "output_type": "stream",
     "text": [
      "EBITDA: 163125.15\n",
      "EBIT: 163125.15\n",
      "FOCF (自由运营现金流): -38220001.56\n",
      "FFO (经营活动产生的现金): 163125.15\n",
      "Total Debt (总负债): 16581543.907499999\n"
     ]
    }
   ],
   "source": [
    "print(\"EBITDA:\", raw_data_2022[\"EBITDA\"])\n",
    "print(\"EBIT:\", raw_data_2022[\"EBIT\"])\n",
    "print(\"FOCF (自由运营现金流):\", raw_data_2022[\"自由运营现金流(FOCF)\"])\n",
    "print(\"FFO (经营活动产生的现金):\", raw_data_2022[\"经营活动产生的现金(FFO)\"])\n",
    "print(\"Total Debt (总负债):\", raw_data_2022[\"总负债\"])\n"
   ]
  }
 ],
 "metadata": {
  "kernelspec": {
   "display_name": "FinaCoding",
   "language": "python",
   "name": "python3"
  },
  "language_info": {
   "codemirror_mode": {
    "name": "ipython",
    "version": 3
   },
   "file_extension": ".py",
   "mimetype": "text/x-python",
   "name": "python",
   "nbconvert_exporter": "python",
   "pygments_lexer": "ipython3",
   "version": "3.12.4"
  }
 },
 "nbformat": 4,
 "nbformat_minor": 2
}
